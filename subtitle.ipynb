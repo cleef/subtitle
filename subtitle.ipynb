{
 "cells": [
  {
   "cell_type": "code",
   "execution_count": 1,
   "metadata": {},
   "outputs": [],
   "source": [
    "from subtitle.ocr import OCR\n",
    "from subtitle.clean import clean_subtitle"
   ]
  },
  {
   "cell_type": "code",
   "execution_count": 3,
   "metadata": {},
   "outputs": [],
   "source": [
    "video_path = '/Users/lee/git/subtitle/Black Myth Wukong - Chapter 2 Ending Cutscene (4K Animation) [gooulGrD4nI].webm'\n"
   ]
  },
  {
   "cell_type": "code",
   "execution_count": 5,
   "metadata": {},
   "outputs": [
    {
     "name": "stdout",
     "output_type": "stream",
     "text": [
      "120\n",
      "Processed 180.0 seconds of video\n",
      "Processed 182.0 seconds of video\n",
      "Processed 184.0 seconds of video\n",
      "Processed 186.0 seconds of video\n",
      "Processed 188.0 seconds of video\n",
      "Processed 190.0 seconds of video\n",
      "Processed 192.0 seconds of video\n",
      "Processed 194.0 seconds of video\n",
      "Processed 196.0 seconds of video\n",
      "Processed 198.0 seconds of video\n",
      "Processed 200.0 seconds of video\n",
      "Processed 202.0 seconds of video\n",
      "Processed 204.0 seconds of video\n",
      "Processed 206.0 seconds of video\n",
      "Processed 208.0 seconds of video\n",
      "Processed 210.0 seconds of video\n",
      "Processed 212.0 seconds of video\n",
      "Processed 214.0 seconds of video\n",
      "Processed 216.0 seconds of video\n",
      "Processed 218.0 seconds of video\n",
      "Processed 220.0 seconds of video\n",
      "Processed 222.0 seconds of video\n",
      "Processed 224.0 seconds of video\n",
      "Processed 226.0 seconds of video\n",
      "Processed 228.0 seconds of video\n",
      "Processed 230.0 seconds of video\n",
      "Processed 232.0 seconds of video\n",
      "Processed 234.0 seconds of video\n",
      "Processed 236.0 seconds of video\n",
      "Processed 238.0 seconds of video\n",
      "Processed 240.0 seconds of video\n",
      "Processed 242.0 seconds of video\n",
      "Processed 244.0 seconds of video\n",
      "Processed 246.0 seconds of video\n",
      "Processed 248.0 seconds of video\n",
      "Processed 250.0 seconds of video\n",
      "Processed 252.0 seconds of video\n",
      "Processed 254.0 seconds of video\n",
      "Processed 256.0 seconds of video\n",
      "Processed 258.0 seconds of video\n",
      "Processed 260.0 seconds of video\n",
      "Processed 262.0 seconds of video\n",
      "Processed 264.0 seconds of video\n",
      "Processed 266.0 seconds of video\n",
      "Processed 268.0 seconds of video\n"
     ]
    }
   ],
   "source": [
    "ocr = OCR()\n",
    "start_time = 3 * 60\n",
    "end_time = None\n",
    "ocr.read_text_from_video(video_path, 'subtitles.txt', \n",
    "                         start_time=start_time, \n",
    "                         end_time=end_time)"
   ]
  },
  {
   "cell_type": "code",
   "execution_count": 6,
   "metadata": {},
   "outputs": [],
   "source": [
    "# Load video\n",
    "clean_subtitle('subtitles.txt', 'subtitles_clean.txt')\n",
    "\n",
    "    \n"
   ]
  },
  {
   "cell_type": "code",
   "execution_count": 1,
   "metadata": {},
   "outputs": [],
   "source": []
  },
  {
   "cell_type": "code",
   "execution_count": 2,
   "metadata": {},
   "outputs": [],
   "source": []
  },
  {
   "cell_type": "code",
   "execution_count": 7,
   "metadata": {},
   "outputs": [],
   "source": []
  },
  {
   "cell_type": "code",
   "execution_count": 8,
   "metadata": {},
   "outputs": [],
   "source": []
  },
  {
   "cell_type": "code",
   "execution_count": 1,
   "metadata": {},
   "outputs": [],
   "source": []
  },
  {
   "cell_type": "code",
   "execution_count": null,
   "metadata": {},
   "outputs": [],
   "source": []
  },
  {
   "cell_type": "code",
   "execution_count": null,
   "metadata": {},
   "outputs": [],
   "source": []
  },
  {
   "cell_type": "code",
   "execution_count": null,
   "metadata": {},
   "outputs": [],
   "source": []
  },
  {
   "cell_type": "code",
   "execution_count": 3,
   "metadata": {},
   "outputs": [],
   "source": []
  },
  {
   "cell_type": "code",
   "execution_count": null,
   "metadata": {},
   "outputs": [],
   "source": []
  },
  {
   "cell_type": "code",
   "execution_count": null,
   "metadata": {},
   "outputs": [],
   "source": []
  },
  {
   "cell_type": "code",
   "execution_count": null,
   "metadata": {},
   "outputs": [],
   "source": []
  },
  {
   "cell_type": "code",
   "execution_count": null,
   "metadata": {},
   "outputs": [],
   "source": []
  },
  {
   "cell_type": "code",
   "execution_count": null,
   "metadata": {},
   "outputs": [],
   "source": []
  },
  {
   "cell_type": "code",
   "execution_count": null,
   "metadata": {},
   "outputs": [],
   "source": []
  },
  {
   "cell_type": "code",
   "execution_count": null,
   "metadata": {},
   "outputs": [],
   "source": []
  },
  {
   "cell_type": "code",
   "execution_count": null,
   "metadata": {},
   "outputs": [],
   "source": []
  },
  {
   "cell_type": "code",
   "execution_count": null,
   "metadata": {},
   "outputs": [],
   "source": [
    "\n"
   ]
  },
  {
   "cell_type": "code",
   "execution_count": null,
   "metadata": {},
   "outputs": [],
   "source": []
  },
  {
   "cell_type": "code",
   "execution_count": null,
   "metadata": {},
   "outputs": [],
   "source": []
  },
  {
   "cell_type": "code",
   "execution_count": null,
   "metadata": {},
   "outputs": [],
   "source": []
  },
  {
   "cell_type": "code",
   "execution_count": null,
   "metadata": {},
   "outputs": [],
   "source": []
  },
  {
   "cell_type": "code",
   "execution_count": null,
   "metadata": {},
   "outputs": [],
   "source": []
  },
  {
   "cell_type": "code",
   "execution_count": null,
   "metadata": {},
   "outputs": [],
   "source": []
  },
  {
   "cell_type": "code",
   "execution_count": null,
   "metadata": {},
   "outputs": [],
   "source": []
  },
  {
   "cell_type": "code",
   "execution_count": null,
   "metadata": {},
   "outputs": [],
   "source": []
  },
  {
   "cell_type": "code",
   "execution_count": null,
   "metadata": {},
   "outputs": [],
   "source": []
  },
  {
   "cell_type": "code",
   "execution_count": null,
   "metadata": {},
   "outputs": [],
   "source": []
  },
  {
   "cell_type": "code",
   "execution_count": null,
   "metadata": {},
   "outputs": [],
   "source": []
  },
  {
   "cell_type": "code",
   "execution_count": null,
   "metadata": {},
   "outputs": [],
   "source": []
  },
  {
   "cell_type": "code",
   "execution_count": null,
   "metadata": {},
   "outputs": [],
   "source": []
  },
  {
   "cell_type": "code",
   "execution_count": null,
   "metadata": {},
   "outputs": [],
   "source": []
  },
  {
   "cell_type": "code",
   "execution_count": null,
   "metadata": {},
   "outputs": [],
   "source": []
  },
  {
   "cell_type": "code",
   "execution_count": null,
   "metadata": {},
   "outputs": [],
   "source": []
  },
  {
   "cell_type": "code",
   "execution_count": null,
   "metadata": {},
   "outputs": [
    {
     "name": "stdout",
     "output_type": "stream",
     "text": [
      "[{'role': 'system', 'content': 'You are a helpful assistant.'}, {'role': 'user', 'content': 'text'}]\n"
     ]
    }
   ],
   "source": []
  },
  {
   "cell_type": "code",
   "execution_count": null,
   "metadata": {},
   "outputs": [],
   "source": []
  },
  {
   "cell_type": "code",
   "execution_count": null,
   "metadata": {},
   "outputs": [],
   "source": []
  }
 ],
 "metadata": {
  "kernelspec": {
   "display_name": "base",
   "language": "python",
   "name": "python3"
  },
  "language_info": {
   "codemirror_mode": {
    "name": "ipython",
    "version": 3
   },
   "file_extension": ".py",
   "mimetype": "text/x-python",
   "name": "python",
   "nbconvert_exporter": "python",
   "pygments_lexer": "ipython3",
   "version": "3.10.9"
  }
 },
 "nbformat": 4,
 "nbformat_minor": 2
}
